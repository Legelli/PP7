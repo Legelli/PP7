{
 "cells": [
  {
   "cell_type": "markdown",
   "metadata": {},
   "source": [
    "# Esercitazione 7"
   ]
  },
  {
   "cell_type": "code",
   "execution_count": 1,
   "metadata": {
    "collapsed": true
   },
   "outputs": [],
   "source": [
    "%run 'Base_Load.ipynb'"
   ]
  },
  {
   "cell_type": "code",
   "execution_count": 125,
   "metadata": {
    "collapsed": true
   },
   "outputs": [],
   "source": [
    "def fluke_sd(x):\n",
    "    if(isinstance(x, int)): \n",
    "        s = str(x)\n",
    "        ret = 1\n",
    "    else:\n",
    "        s = str(x)\n",
    "        for k in range(len(s)):\n",
    "            if (s[k] == '.'):\n",
    "                a = k\n",
    "        ret = 2*10**(-len(s[a+1:]))\n",
    "    sd= 0.5/100*x + ret\n",
    "    return (sd)\n",
    "\n",
    "\n",
    "def multi_fluke_sd(x): # BISOGNA DARE UNA LISTA, NON UN ARRAY\n",
    "    sd = []\n",
    "    for i in range(len(x)):\n",
    "        ret = fluke_sd(x[i])\n",
    "        sd.append(ret)\n",
    "    sd = array(sd)\n",
    "    return (sd)"
   ]
  },
  {
   "cell_type": "code",
   "execution_count": null,
   "metadata": {
    "collapsed": true
   },
   "outputs": [],
   "source": []
  },
  {
   "cell_type": "markdown",
   "metadata": {},
   "source": [
    "## Contatore"
   ]
  },
  {
   "cell_type": "code",
   "execution_count": 25,
   "metadata": {},
   "outputs": [
    {
     "ename": "SyntaxError",
     "evalue": "invalid syntax (<ipython-input-25-cb6163aac06f>, line 1)",
     "output_type": "error",
     "traceback": [
      "\u001b[0;36m  File \u001b[0;32m\"<ipython-input-25-cb6163aac06f>\"\u001b[0;36m, line \u001b[0;32m1\u001b[0m\n\u001b[0;31m    R0 =\u001b[0m\n\u001b[0m        ^\u001b[0m\n\u001b[0;31mSyntaxError\u001b[0m\u001b[0;31m:\u001b[0m invalid syntax\n"
     ]
    }
   ],
   "source": [
    "R0 =\n",
    "R1 =\n",
    "R2 =\n",
    "R3 =\n",
    "\n",
    "sdR0 = fluke_sd(R0)\n",
    "sdR1 = fluke_sd(R1)\n",
    "sdR2 = fluke_sd(R2)\n",
    "sdR3 = fluke_sd(R3)\n",
    "\n",
    "print(\"R0:\",R0,\"   sd:\",sdR0)\n",
    "print(\"R1:\",R1,\"   sd:\",sdR1)\n",
    "print(\"R2:\",R2,\"   sd:\",sdR2)\n",
    "print(\"R3:\",R3,\"   sd:\",sdR3)"
   ]
  },
  {
   "cell_type": "markdown",
   "metadata": {
    "collapsed": true
   },
   "source": [
    "##### Commentare il fatto che non possiamo dare un clock manuale"
   ]
  },
  {
   "cell_type": "code",
   "execution_count": 126,
   "metadata": {},
   "outputs": [
    {
     "name": "stdout",
     "output_type": "stream",
     "text": [
      "LOGIC 0:\n",
      "V0: 0.12812    sd: 0.0006406\n",
      "V1: 0.17953    sd: 0.00089765\n",
      "V2: 0.19023    sd: 0.00095115\n",
      "V3: 0.14319    sd: 0.00071595\n",
      "\n",
      "LOGIC 1:\n",
      "V0: 3.222    sd: 0.01611\n",
      "V1: 3.1747    sd: 0.0158735\n",
      "V2: 3.205    sd: 0.016025\n",
      "V3: 3.332    sd: 0.01666\n"
     ]
    }
   ],
   "source": [
    "V0 = array([128.12e-3 , 3.222])\n",
    "V1 = array([179.53e-3 , 3.1747])\n",
    "V2 = array([190.23e-3 , 3.205])\n",
    "V3 = array([143.19e-3 , 3.332])\n",
    "\n",
    "sdV0 = 0.5*V0/100\n",
    "sdV1 = 0.5*V1/100\n",
    "sdV2 = 0.5*V2/100\n",
    "sdV3 = 0.5*V3/100\n",
    "\n",
    "print(\"LOGIC 0:\")\n",
    "print(\"V0:\",V0[0],\"   sd:\",sdV0[0])\n",
    "print(\"V1:\",V1[0],\"   sd:\",sdV1[0])\n",
    "print(\"V2:\",V2[0],\"   sd:\",sdV2[0])\n",
    "print(\"V3:\",V3[0],\"   sd:\",sdV3[0])\n",
    "print(\"\")\n",
    "print(\"LOGIC 1:\")\n",
    "print(\"V0:\",V0[1],\"   sd:\",sdV0[1])\n",
    "print(\"V1:\",V1[1],\"   sd:\",sdV1[1])\n",
    "print(\"V2:\",V2[1],\"   sd:\",sdV2[1])\n",
    "print(\"V3:\",V3[1],\"   sd:\",sdV3[1])"
   ]
  },
  {
   "cell_type": "code",
   "execution_count": 127,
   "metadata": {},
   "outputs": [
    {
     "name": "stdout",
     "output_type": "stream",
     "text": [
      "Vref: 3.233425    sd: 0.0593804839573\n"
     ]
    }
   ],
   "source": [
    "Vref = mean(array([V0[1],V1[1],V2[1],V3[1]]))\n",
    "sdVref = std(array([V0[1],V1[1],V2[1],V3[1]]))\n",
    "\n",
    "print(\"Vref:\",Vref,\"   sd:\",sdVref)"
   ]
  },
  {
   "cell_type": "code",
   "execution_count": 128,
   "metadata": {},
   "outputs": [
    {
     "name": "stdout",
     "output_type": "stream",
     "text": [
      "\\begin{tabular}{rrrr}\n",
      "\\hline\n",
      "   $V_0$ [mV] &   $sdV_0$ [mV] &   $V_1$ [V] &   $sdV_0$ [V] \\\\\n",
      "\\hline\n",
      "      128.120 &          0.641 &       3.222 &         0.016 \\\\\n",
      "      179.530 &          0.898 &       3.175 &         0.016 \\\\\n",
      "      190.230 &          0.951 &       3.205 &         0.016 \\\\\n",
      "      143.190 &          0.716 &       3.332 &         0.017 \\\\\n",
      "\\hline\n",
      "\\end{tabular}\n"
     ]
    }
   ],
   "source": [
    "data = pd.DataFrame(np.column_stack([ array([V0[0],V1[0],V2[0],V3[0]])*10**3 , array([sdV0[0],sdV1[0],sdV2[0],sdV3[0]])*10**3  , array([V0[1],V1[1],V2[1],V3[1]]) ,  array([sdV0[1],sdV1[1],sdV2[1],sdV3[1]])   ]))\n",
    "print(tabulate(data, tablefmt=\"latex_raw\", showindex = False, floatfmt=(\".3f\",\".3f\",\".3f\",\".3f\"), headers=[\"$V_0$ [mV]\", \"$sdV_0$ [mV]\" ,\"$V_1$ [V]\" , \"$sdV_0$ [V]\"]))"
   ]
  },
  {
   "cell_type": "code",
   "execution_count": null,
   "metadata": {
    "collapsed": true
   },
   "outputs": [],
   "source": []
  },
  {
   "cell_type": "markdown",
   "metadata": {},
   "source": [
    "## DAC"
   ]
  },
  {
   "cell_type": "code",
   "execution_count": 129,
   "metadata": {},
   "outputs": [
    {
     "name": "stdout",
     "output_type": "stream",
     "text": [
      "R: 1.0001    sd: 0.005200499999999999\n",
      "R2: 2.01    sd: 0.03005\n",
      "R4: 4.0    sd: 0.22\n",
      "R8: 8.04    sd: 0.060200000000000004\n",
      "Rp: 2.14    sd: 0.0307\n"
     ]
    }
   ],
   "source": [
    "R = 1.0001\n",
    "R2 = 2.01\n",
    "R4 = 4.00\n",
    "R8 = 8.04\n",
    "\n",
    "Rp = 2.14\n",
    "\n",
    "\n",
    "sdR = fluke_sd(R)\n",
    "sdR2 = fluke_sd(R2)\n",
    "sdR4 = fluke_sd(R4)\n",
    "sdR8 = fluke_sd(R8)\n",
    "sdRp = fluke_sd(Rp)\n",
    "\n",
    "\n",
    "print(\"R:\",R,\"   sd:\",sdR)\n",
    "print(\"R2:\",R2,\"   sd:\",sdR2)\n",
    "print(\"R4:\",R4,\"   sd:\",sdR4)\n",
    "print(\"R8:\",R8,\"   sd:\",sdR8)\n",
    "print(\"Rp:\",Rp,\"   sd:\",sdRp)"
   ]
  },
  {
   "cell_type": "code",
   "execution_count": 130,
   "metadata": {
    "collapsed": true
   },
   "outputs": [],
   "source": [
    "def Vout(Vriferimento,a0,a1,a2,a3):\n",
    "    return -Vriferimento * Rp/(8*R) * (a0 + 2*a1 + 4*a2 + 8*a3)"
   ]
  },
  {
   "cell_type": "code",
   "execution_count": null,
   "metadata": {
    "collapsed": true
   },
   "outputs": [],
   "source": []
  },
  {
   "cell_type": "markdown",
   "metadata": {},
   "source": [
    "### Verifica  DAC"
   ]
  },
  {
   "cell_type": "code",
   "execution_count": 131,
   "metadata": {
    "collapsed": true
   },
   "outputs": [],
   "source": [
    "Vin = 4.935"
   ]
  },
  {
   "cell_type": "code",
   "execution_count": 132,
   "metadata": {},
   "outputs": [
    {
     "name": "stdout",
     "output_type": "stream",
     "text": [
      "Vo0: -7.882    sd: -0.03941\n",
      "Vo0_teo: -10.55984401559844    sd: -0.1055984401559844\n"
     ]
    }
   ],
   "source": [
    "Vo0 = -7.882\n",
    "sdVo0 = 0.5*Vo0/100\n",
    "\n",
    "Vo0_teo = Vout(Vin,0,0,0,1)\n",
    "sdVo0_teo = 1*Vo0_teo/100 # farla inventare a lollo\n",
    "\n",
    "print(\"Vo0:\",Vo0,\"   sd:\",sdVo0)\n",
    "print(\"Vo0_teo:\",Vo0_teo,\"   sd:\",sdVo0_teo)"
   ]
  },
  {
   "cell_type": "code",
   "execution_count": 133,
   "metadata": {},
   "outputs": [
    {
     "name": "stdout",
     "output_type": "stream",
     "text": [
      "Vo1: -3.966    sd: -0.01983\n",
      "Vo1_teo: -5.27992200779922    sd: -0.0527992200779922\n"
     ]
    }
   ],
   "source": [
    "Vo1 = -3.966\n",
    "sdVo1 = 0.5*Vo1/100\n",
    "\n",
    "Vo1_teo = Vout(Vin,0,0,1,0)\n",
    "sdVo1_teo = 1*Vo1_teo/100 # farla inventare a lollo\n",
    "\n",
    "print(\"Vo1:\",Vo1,\"   sd:\",sdVo1)\n",
    "print(\"Vo1_teo:\",Vo1_teo,\"   sd:\",sdVo1_teo)"
   ]
  },
  {
   "cell_type": "code",
   "execution_count": 134,
   "metadata": {},
   "outputs": [
    {
     "name": "stdout",
     "output_type": "stream",
     "text": [
      "Vo2: -1.983    sd: -0.009915\n",
      "Vo2_teo: -2.63996100389961    sd: -0.0263996100389961\n"
     ]
    }
   ],
   "source": [
    "Vo2 = -1.983\n",
    "sdVo2 = 0.5*Vo2/100\n",
    "\n",
    "Vo2_teo = Vout(Vin,0,1,0,0)\n",
    "sdVo2_teo = 1*Vo2_teo/100 # farla inventare a lollo\n",
    "\n",
    "print(\"Vo2:\",Vo2,\"   sd:\",sdVo2)\n",
    "print(\"Vo2_teo:\",Vo2_teo,\"   sd:\",sdVo2_teo)"
   ]
  },
  {
   "cell_type": "code",
   "execution_count": 135,
   "metadata": {},
   "outputs": [
    {
     "name": "stdout",
     "output_type": "stream",
     "text": [
      "Vo3: -0.988    sd: -0.00494\n",
      "Vo3_teo: -1.319980501949805    sd: -0.01319980501949805\n"
     ]
    }
   ],
   "source": [
    "Vo3 = -0.988\n",
    "sdVo3 = 0.5*Vo3/100\n",
    "\n",
    "Vo3_teo = Vout(Vin,1,0,0,0)\n",
    "sdVo3_teo = 1*Vo3_teo/100 # farla inventare a lollo\n",
    "\n",
    "print(\"Vo3:\",Vo3,\"   sd:\",sdVo3)\n",
    "print(\"Vo3_teo:\",Vo3_teo,\"   sd:\",sdVo3_teo)"
   ]
  },
  {
   "cell_type": "markdown",
   "metadata": {
    "collapsed": true
   },
   "source": [
    "###### Commentare la coerenza tra valore aspettato e valore misurato"
   ]
  },
  {
   "cell_type": "code",
   "execution_count": 136,
   "metadata": {},
   "outputs": [
    {
     "name": "stdout",
     "output_type": "stream",
     "text": [
      "\\begin{tabular}{rrrr}\n",
      "\\hline\n",
      "   $V_0$ [mV] &   $sdV_0$ [mV] &   $V_{0,teo}$ [V] &   $sdV_{0,teo}$ [V] \\\\\n",
      "\\hline\n",
      "       -7.882 &         -0.039 &           -10.560 &              -0.106 \\\\\n",
      "       -3.966 &         -0.020 &            -5.280 &              -0.053 \\\\\n",
      "       -1.983 &         -0.010 &            -2.640 &              -0.026 \\\\\n",
      "       -0.988 &         -0.005 &            -1.320 &              -0.013 \\\\\n",
      "\\hline\n",
      "\\end{tabular}\n"
     ]
    }
   ],
   "source": [
    "data = pd.DataFrame(np.column_stack([ array([Vo0,Vo1,Vo2,Vo3]) , array([sdVo0,sdVo1,sdVo2,sdVo3]), array([Vo0_teo,Vo1_teo,Vo2_teo,Vo3_teo]) , array([sdVo0_teo,sdVo1_teo,sdVo2_teo,sdVo3_teo])  ]))\n",
    "print(tabulate(data, tablefmt=\"latex_raw\", showindex = False, floatfmt=(\".3f\",\".3f\",\".3f\",\".3f\"), headers=[\"$V_0$ [mV]\", \"$sdV_0$ [mV]\" ,\"$V_{0,teo}$ [V]\" , \"$sdV_{0,teo}$ [V]\"]))"
   ]
  },
  {
   "cell_type": "code",
   "execution_count": null,
   "metadata": {
    "collapsed": true
   },
   "outputs": [],
   "source": []
  },
  {
   "cell_type": "markdown",
   "metadata": {},
   "source": [
    "## Verifica DAC + Contatore"
   ]
  },
  {
   "cell_type": "code",
   "execution_count": 137,
   "metadata": {
    "collapsed": true
   },
   "outputs": [],
   "source": [
    "Vout = -array([560e-3, 1.36, 2.16, 2.92, 3.74, 4.52, 5.32, 6.16, 7.32, 8.12, 8.88, 9.64, 10.5, 11.2, 12.1]) #misurare partendo da 0\n",
    "sdVout = 5*Vout/100"
   ]
  },
  {
   "cell_type": "code",
   "execution_count": 138,
   "metadata": {},
   "outputs": [
    {
     "data": {
      "image/png": "[encoded data removed]",
      "text/plain": [
       "<matplotlib.figure.Figure at 0x118939630>"
      ]
     },
     "metadata": {
      "image/png": {
       "height": 264,
       "width": 394
      }
     },
     "output_type": "display_data"
    }
   ],
   "source": [
    "i = array([0,1,2,3,4,5,6,7,8,9,10,11,12,13,14])\n",
    "xlabel(\"n\")\n",
    "ylabel(\"$V_o\\,\\,\\,[V]$\") \n",
    "errorbar(i, Vout, yerr = sdVout, fmt='o')\n",
    "\n",
    "m,q = polyfit(i, Vout,1)"
   ]
  },
  {
   "cell_type": "code",
   "execution_count": 139,
   "metadata": {},
   "outputs": [
    {
     "name": "stdout",
     "output_type": "stream",
     "text": [
      "Chi2 =  11.471585176\n"
     ]
    }
   ],
   "source": [
    "res = (Vout-(m*i+q))**2/sdVout**2\n",
    "chi2 = sum(res)\n",
    "print(\"Chi2 = \",chi2)"
   ]
  },
  {
   "cell_type": "code",
   "execution_count": 140,
   "metadata": {},
   "outputs": [
    {
     "data": {
      "text/plain": [
       "-12.1"
      ]
     },
     "execution_count": 140,
     "metadata": {},
     "output_type": "execute_result"
    }
   ],
   "source": [
    "Vout[14]"
   ]
  },
  {
   "cell_type": "code",
   "execution_count": 141,
   "metadata": {},
   "outputs": [
    {
     "name": "stdout",
     "output_type": "stream",
     "text": [
      "\\begin{tabular}{rrr}\n",
      "\\hline\n",
      "   n &   $V_{out}$ [V] &   $\\Delta V_{out}$ [mV] \\\\\n",
      "\\hline\n",
      "   0 &           -0.56 &                       0 \\\\\n",
      "   1 &           -1.36 &                    -800 \\\\\n",
      "   2 &           -2.16 &                    -800 \\\\\n",
      "   3 &           -2.92 &                    -760 \\\\\n",
      "   4 &           -3.74 &                    -820 \\\\\n",
      "   5 &           -4.52 &                    -780 \\\\\n",
      "   6 &           -5.32 &                    -800 \\\\\n",
      "   7 &           -6.16 &                    -840 \\\\\n",
      "   8 &           -7.32 &                   -1160 \\\\\n",
      "   9 &           -8.12 &                    -800 \\\\\n",
      "  10 &           -8.88 &                    -760 \\\\\n",
      "  11 &           -9.64 &                    -760 \\\\\n",
      "  12 &          -10.50 &                    -860 \\\\\n",
      "  13 &          -11.20 &                    -700 \\\\\n",
      "  14 &          -12.10 &                    -900 \\\\\n",
      "\\hline\n",
      "\\end{tabular}\n"
     ]
    }
   ],
   "source": [
    "DV = -array([560e-3, 1.36, 2.16, 2.92, 3.74, 4.52, 5.32, 6.16, 7.32, 8.12, 8.88, 9.64, 10.5, 11.2, 12.1]) \n",
    "for j in range(14,0,-1):\n",
    "    DV[j] = DV[j]-DV[j-1]\n",
    "DV[0] = 0\n",
    "\n",
    "data = pd.DataFrame(np.column_stack([i, Vout, DV*10**3]))\n",
    "print(tabulate(data, tablefmt=\"latex_raw\", showindex = False, floatfmt=(\".0f\",\".2f\",\".0f\"), headers=[\"n\",\"$V_{out}$ [V]\", \"$\\Delta V_{out}$ [mV]\"]))"
   ]
  },
  {
   "cell_type": "code",
   "execution_count": null,
   "metadata": {
    "collapsed": true
   },
   "outputs": [],
   "source": []
  },
  {
   "cell_type": "markdown",
   "metadata": {},
   "source": [
    "## Verifiche suppletive"
   ]
  },
  {
   "cell_type": "code",
   "execution_count": 170,
   "metadata": {
    "collapsed": true
   },
   "outputs": [],
   "source": [
    "def Vout(Vriferimento,a):\n",
    "    return -Vriferimento * Rp/(8*R) * (a[3] + 2*a[2] + 4*a[1] + 8*a[0])"
   ]
  },
  {
   "cell_type": "code",
   "execution_count": 171,
   "metadata": {
    "collapsed": true
   },
   "outputs": [],
   "source": [
    "i = array([0,1,2,3,4,5,6,7,8,9,10,11,12,13,14,15])\n",
    "Rp = 0.788\n",
    "Vx = -array([0.17e-3, 300e-3, 0.603, 0.845, 1.146, 1.42, 1.73, 1.99, 2.3, 2.73, 2.99, 3.28, 3.57, 3.85, 4.13, 4.44])\n",
    "Vo = -array([238.7e-3, 0.53, 0.823, 1.12, 1.4, 1.70, 1.99, 2.29, 2.70, 2.98, 3.27, 3.56, 3.85, 4.14, 4.43, 4.72]) #DAC\n",
    "Q =  array([0,0,0,0]) , array([0,0,0,1]), array([0,0,1,0]) ,array([0,0,1,1]), array([0,1,0,0]) , array([0,1,0,1]) , array([0,1,1,0]) , array([0,1,1,1]), array([1,0,0,0]) , array([1,0,0,1]), array([1,0,1,0]) , array([1,0,1,1]), array([1,1,0,0]) , array([1,1,0,1]) , array([1,1,1,0]), array([1,1,1,1])   "
   ]
  },
  {
   "cell_type": "code",
   "execution_count": 173,
   "metadata": {
    "collapsed": true
   },
   "outputs": [],
   "source": [
    "Vo_teo = list()\n",
    "for k in range(0,16):\n",
    "    Vo_teo.append(Vout(Vref,Q[k]))\n"
   ]
  },
  {
   "cell_type": "code",
   "execution_count": 174,
   "metadata": {},
   "outputs": [
    {
     "name": "stdout",
     "output_type": "stream",
     "text": [
      "\\begin{tabular}{rrrr}\n",
      "\\hline\n",
      "   n &   $V_{x}$ [V] &   $V_{o}$ [V] &   $V_{o,teo}$ [V] \\\\\n",
      "\\hline\n",
      "   0 &        -0.000 &        -0.239 &            -0.000 \\\\\n",
      "   1 &        -0.300 &        -0.530 &            -0.318 \\\\\n",
      "   2 &        -0.603 &        -0.823 &            -0.637 \\\\\n",
      "   3 &        -0.845 &        -1.120 &            -0.955 \\\\\n",
      "   4 &        -1.146 &        -1.400 &            -1.274 \\\\\n",
      "   5 &        -1.420 &        -1.700 &            -1.592 \\\\\n",
      "   6 &        -1.730 &        -1.990 &            -1.911 \\\\\n",
      "   7 &        -1.990 &        -2.290 &            -2.229 \\\\\n",
      "   8 &        -2.300 &        -2.700 &            -2.548 \\\\\n",
      "   9 &        -2.730 &        -2.980 &            -2.866 \\\\\n",
      "  10 &        -2.990 &        -3.270 &            -3.185 \\\\\n",
      "  11 &        -3.280 &        -3.560 &            -3.503 \\\\\n",
      "  12 &        -3.570 &        -3.850 &            -3.822 \\\\\n",
      "  13 &        -3.850 &        -4.140 &            -4.140 \\\\\n",
      "  14 &        -4.130 &        -4.430 &            -4.458 \\\\\n",
      "  15 &        -4.440 &        -4.720 &            -4.777 \\\\\n",
      "\\hline\n",
      "\\end{tabular}\n"
     ]
    }
   ],
   "source": [
    "data = pd.DataFrame(np.column_stack([i,Vx,Vo,Vo_teo]))\n",
    "print(tabulate(data, tablefmt=\"latex_raw\", showindex = False, floatfmt=(\".0f\",\".3f\",\".3f\",\".3f\"), headers=[\"n\", \"$V_{x}$ [V]\", \"$V_{o}$ [V]\" , \"$V_{o,teo}$ [V]\"]))"
   ]
  },
  {
   "cell_type": "code",
   "execution_count": null,
   "metadata": {
    "collapsed": true
   },
   "outputs": [],
   "source": []
  },
  {
   "cell_type": "markdown",
   "metadata": {
    "collapsed": true
   },
   "source": [
    "trimmer da 10K sul comparatore"
   ]
  },
  {
   "cell_type": "code",
   "execution_count": 175,
   "metadata": {},
   "outputs": [
    {
     "data": {
      "text/plain": [
       "[<matplotlib.lines.Line2D at 0x1520377c88>]"
      ]
     },
     "execution_count": 175,
     "metadata": {},
     "output_type": "execute_result"
    },
    {
     "data": {
      "image/png": "[encoded data removed]",
      "text/plain": [
       "<matplotlib.figure.Figure at 0x152034bcc0>"
      ]
     },
     "metadata": {
      "image/png": {
       "height": 263,
       "width": 387
      }
     },
     "output_type": "display_data"
    }
   ],
   "source": [
    "i = array([0,1,2,3,4,5,6,7,8,9,10,11,12,13,14,15])\n",
    "xlabel(\"n\")\n",
    "ylabel(\"$V_x\\,\\,\\,[V]$\") \n",
    "plot(i,Vx,'o')"
   ]
  },
  {
   "cell_type": "code",
   "execution_count": null,
   "metadata": {
    "collapsed": true
   },
   "outputs": [],
   "source": []
  }
 ],
 "metadata": {
  "kernelspec": {
   "display_name": "Python 3",
   "language": "python",
   "name": "python3"
  },
  "language_info": {
   "codemirror_mode": {
    "name": "ipython",
    "version": 3
   },
   "file_extension": ".py",
   "mimetype": "text/x-python",
   "name": "python",
   "nbconvert_exporter": "python",
   "pygments_lexer": "ipython3",
   "version": "3.6.2"
  }
 },
 "nbformat": 4,
 "nbformat_minor": 2
}
